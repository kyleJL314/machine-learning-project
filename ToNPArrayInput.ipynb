{
 "cells": [
  {
   "cell_type": "code",
   "execution_count": 1,
   "id": "a8d3dbf9-4223-4086-9681-88aa87f55d8c",
   "metadata": {},
   "outputs": [],
   "source": [
    "import numpy as np\n",
    "import os\n",
    "import PIL\n",
    "from PIL import Image,ImageOps"
   ]
  },
  {
   "cell_type": "code",
   "execution_count": 2,
   "id": "e57f945c-4046-49da-bef5-dcc4f20685ab",
   "metadata": {},
   "outputs": [],
   "source": [
    "def convertImageToNpArray(image):\n",
    "    image_grey =ImageOps.grayscale(image)\n",
    "    generated_image = np.array(image_grey)\n",
    "    generated_image=np.expand_dims(generated_image, axis=2)\n",
    "    return generated_image\n",
    "    "
   ]
  },
  {
   "cell_type": "code",
   "execution_count": 5,
   "id": "4dc9e5f9-f24d-48d8-82f9-cc2acea6d21b",
   "metadata": {},
   "outputs": [],
   "source": [
    "def convertAllToNpArray(inputFolder):\n",
    "    images = os.listdir(inputFolder)\n",
    "    images.pop(0)\n",
    "    inputs = []\n",
    "    f=0\n",
    "    for i in images:\n",
    "        image = Image.open(inputFolder+'/'+i)\n",
    "        inputs.append(convertImageToNpArray(image))\n",
    "\n",
    "    inputs = np.array(inputs)  \n",
    "    return inputs\n"
   ]
  },
  {
   "cell_type": "code",
   "execution_count": 6,
   "id": "41187944-8ea2-4bbb-940f-5d4359bd259b",
   "metadata": {},
   "outputs": [
    {
     "name": "stdout",
     "output_type": "stream",
     "text": [
      "(12000, 300, 300, 1)\n"
     ]
    }
   ],
   "source": [
    "inputFolder = 'w'\n",
    "finish = convertAllToNpArray(inputFolder)\n",
    "print(finish.shape)"
   ]
  },
  {
   "cell_type": "code",
   "execution_count": null,
   "id": "5b9e074b-98ac-4811-a778-bada285be227",
   "metadata": {},
   "outputs": [],
   "source": []
  }
 ],
 "metadata": {
  "kernelspec": {
   "display_name": "Python 3 (ipykernel)",
   "language": "python",
   "name": "python3"
  },
  "language_info": {
   "codemirror_mode": {
    "name": "ipython",
    "version": 3
   },
   "file_extension": ".py",
   "mimetype": "text/x-python",
   "name": "python",
   "nbconvert_exporter": "python",
   "pygments_lexer": "ipython3",
   "version": "3.9.7"
  }
 },
 "nbformat": 4,
 "nbformat_minor": 5
}
